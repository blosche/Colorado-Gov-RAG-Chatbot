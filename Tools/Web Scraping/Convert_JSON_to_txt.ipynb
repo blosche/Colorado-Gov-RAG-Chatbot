{
 "cells": [
  {
   "cell_type": "code",
   "execution_count": 4,
   "metadata": {},
   "outputs": [
    {
     "name": "stdout",
     "output_type": "stream",
     "text": [
      "Successfully processed service_questions.json to output.txt\n"
     ]
    }
   ],
   "source": [
    "# Import necessary library\n",
    "import json\n",
    "\n",
    "# Function to process the JSON file and write to a text file\n",
    "def process_json_to_text(json_filename, output_filename):\n",
    "    try:\n",
    "        # Read the JSON file with UTF-8 encoding\n",
    "        with open(json_filename, 'r', encoding='utf-8') as file:\n",
    "            data = json.load(file)\n",
    "        \n",
    "        # Open the output text file for writing with UTF-8 encoding\n",
    "        with open(output_filename, 'w', encoding='utf-8') as output_file:\n",
    "            for item in data:\n",
    "                # Write each section header and its content\n",
    "                output_file.write(f'Service Name: {item[\"mainText\"]}\\n')\n",
    "                output_file.write(f'Service URL: {item[\"mainURL\"]}\\n')\n",
    "                output_file.write(f'dept Name: {item[\"deptName\"]}\\n')\n",
    "                output_file.write(f'dept URL: {item[\"deptURL\"]}\\n')\n",
    "                output_file.write(f'questions: {item[\"questions\"]}\\n')\n",
    "                output_file.write(';\\n')  # Add a blank line between entries\n",
    "        \n",
    "        print(f'Successfully processed {json_filename} to {output_filename}')\n",
    "    \n",
    "    except Exception as e:\n",
    "        print(f'Error processing file: {e}')\n",
    "\n",
    "# Specify the JSON file and output text file names\n",
    "json_filename = 'service_questions.json'\n",
    "output_filename = 'output.txt'\n",
    "\n",
    "# Run the function to process the file\n",
    "process_json_to_text(json_filename, output_filename)"
   ]
  },
  {
   "cell_type": "code",
   "execution_count": 1,
   "metadata": {},
   "outputs": [
    {
     "name": "stdout",
     "output_type": "stream",
     "text": [
      "Successfully converted output.txt to UTF-8 encoding and saved as CO_Services_utf8.txt\n"
     ]
    }
   ],
   "source": [
    "def convert_to_utf8(input_filename, output_filename):\n",
    "    try:\n",
    "        # Read the file with ISO-8859-1 encoding\n",
    "        with open(input_filename, 'r', encoding='iso-8859-1') as file:\n",
    "            content = file.read()\n",
    "        \n",
    "        # Write the content to a new file with UTF-8 encoding\n",
    "        with open(output_filename, 'w', encoding='utf-8') as file:\n",
    "            file.write(content)\n",
    "        \n",
    "        print(f'Successfully converted {input_filename} to UTF-8 encoding and saved as {output_filename}')\n",
    "    \n",
    "    except Exception as e:\n",
    "        print(f'Error converting file: {e}')\n",
    "\n",
    "# Specify the input and output file names\n",
    "input_filename = 'output.txt'\n",
    "output_filename = 'CO_Services_utf8.txt'\n",
    "\n",
    "# Run the conversion function\n",
    "convert_to_utf8(input_filename, output_filename)"
   ]
  },
  {
   "cell_type": "markdown",
   "metadata": {},
   "source": [
    "NOW CONVERT Unemplyoment to utf-8"
   ]
  },
  {
   "cell_type": "code",
   "execution_count": 2,
   "metadata": {},
   "outputs": [
    {
     "name": "stdout",
     "output_type": "stream",
     "text": [
      "Successfully converted Unemployment.txt to UTF-8 encoding and saved as Unemployment_utf8.txt\n"
     ]
    }
   ],
   "source": [
    "convert_to_utf8('Unemployment.txt', 'Unemployment_utf8.txt')"
   ]
  }
 ],
 "metadata": {
  "kernelspec": {
   "display_name": ".venv",
   "language": "python",
   "name": "python3"
  },
  "language_info": {
   "codemirror_mode": {
    "name": "ipython",
    "version": 3
   },
   "file_extension": ".py",
   "mimetype": "text/x-python",
   "name": "python",
   "nbconvert_exporter": "python",
   "pygments_lexer": "ipython3",
   "version": "3.11.0"
  }
 },
 "nbformat": 4,
 "nbformat_minor": 2
}
